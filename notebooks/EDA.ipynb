{
 "cells": [
  {
   "cell_type": "code",
   "execution_count": 1,
   "metadata": {},
   "outputs": [],
   "source": [
    "import numpy as np\n",
    "import pandas as pd \n",
    "import seaborn as sns \n",
    "import matplotlib.pyplot as plt \n",
    "import warnings\n",
    "warnings.filterwarnings('ignore')\n",
    "\n",
    "import pickle ## for dump the model \n"
   ]
  },
  {
   "cell_type": "code",
   "execution_count": 2,
   "metadata": {},
   "outputs": [
    {
     "data": {
      "text/html": [
       "<div>\n",
       "<style scoped>\n",
       "    .dataframe tbody tr th:only-of-type {\n",
       "        vertical-align: middle;\n",
       "    }\n",
       "\n",
       "    .dataframe tbody tr th {\n",
       "        vertical-align: top;\n",
       "    }\n",
       "\n",
       "    .dataframe thead th {\n",
       "        text-align: right;\n",
       "    }\n",
       "</style>\n",
       "<table border=\"1\" class=\"dataframe\">\n",
       "  <thead>\n",
       "    <tr style=\"text-align: right;\">\n",
       "      <th></th>\n",
       "      <th>Unnamed: 0</th>\n",
       "      <th>Sensor-1</th>\n",
       "      <th>Sensor-2</th>\n",
       "      <th>Sensor-3</th>\n",
       "      <th>Sensor-4</th>\n",
       "      <th>Sensor-5</th>\n",
       "      <th>Sensor-6</th>\n",
       "      <th>Sensor-7</th>\n",
       "      <th>Sensor-8</th>\n",
       "      <th>Sensor-9</th>\n",
       "      <th>...</th>\n",
       "      <th>Sensor-582</th>\n",
       "      <th>Sensor-583</th>\n",
       "      <th>Sensor-584</th>\n",
       "      <th>Sensor-585</th>\n",
       "      <th>Sensor-586</th>\n",
       "      <th>Sensor-587</th>\n",
       "      <th>Sensor-588</th>\n",
       "      <th>Sensor-589</th>\n",
       "      <th>Sensor-590</th>\n",
       "      <th>Good/Bad</th>\n",
       "    </tr>\n",
       "  </thead>\n",
       "  <tbody>\n",
       "    <tr>\n",
       "      <th>0</th>\n",
       "      <td>Wafer-801</td>\n",
       "      <td>2968.33</td>\n",
       "      <td>2476.58</td>\n",
       "      <td>2216.7333</td>\n",
       "      <td>1748.0885</td>\n",
       "      <td>1.1127</td>\n",
       "      <td>100.0</td>\n",
       "      <td>97.5822</td>\n",
       "      <td>0.1242</td>\n",
       "      <td>1.5300</td>\n",
       "      <td>...</td>\n",
       "      <td>NaN</td>\n",
       "      <td>0.5004</td>\n",
       "      <td>0.0120</td>\n",
       "      <td>0.0033</td>\n",
       "      <td>2.4069</td>\n",
       "      <td>0.0545</td>\n",
       "      <td>0.0184</td>\n",
       "      <td>0.0055</td>\n",
       "      <td>33.7876</td>\n",
       "      <td>-1</td>\n",
       "    </tr>\n",
       "    <tr>\n",
       "      <th>1</th>\n",
       "      <td>Wafer-802</td>\n",
       "      <td>2961.04</td>\n",
       "      <td>2506.43</td>\n",
       "      <td>2170.0666</td>\n",
       "      <td>1364.5157</td>\n",
       "      <td>1.5447</td>\n",
       "      <td>100.0</td>\n",
       "      <td>96.7700</td>\n",
       "      <td>0.1230</td>\n",
       "      <td>1.3953</td>\n",
       "      <td>...</td>\n",
       "      <td>NaN</td>\n",
       "      <td>0.4994</td>\n",
       "      <td>0.0115</td>\n",
       "      <td>0.0031</td>\n",
       "      <td>2.3020</td>\n",
       "      <td>0.0545</td>\n",
       "      <td>0.0184</td>\n",
       "      <td>0.0055</td>\n",
       "      <td>33.7876</td>\n",
       "      <td>1</td>\n",
       "    </tr>\n",
       "    <tr>\n",
       "      <th>2</th>\n",
       "      <td>Wafer-803</td>\n",
       "      <td>3072.03</td>\n",
       "      <td>2500.68</td>\n",
       "      <td>2205.7445</td>\n",
       "      <td>1363.1048</td>\n",
       "      <td>1.0518</td>\n",
       "      <td>100.0</td>\n",
       "      <td>101.8644</td>\n",
       "      <td>0.1220</td>\n",
       "      <td>1.3896</td>\n",
       "      <td>...</td>\n",
       "      <td>NaN</td>\n",
       "      <td>0.4987</td>\n",
       "      <td>0.0118</td>\n",
       "      <td>0.0036</td>\n",
       "      <td>2.3719</td>\n",
       "      <td>0.0545</td>\n",
       "      <td>0.0184</td>\n",
       "      <td>0.0055</td>\n",
       "      <td>33.7876</td>\n",
       "      <td>-1</td>\n",
       "    </tr>\n",
       "    <tr>\n",
       "      <th>3</th>\n",
       "      <td>Wafer-804</td>\n",
       "      <td>3021.83</td>\n",
       "      <td>2419.83</td>\n",
       "      <td>2205.7445</td>\n",
       "      <td>1363.1048</td>\n",
       "      <td>1.0518</td>\n",
       "      <td>100.0</td>\n",
       "      <td>101.8644</td>\n",
       "      <td>0.1220</td>\n",
       "      <td>1.4108</td>\n",
       "      <td>...</td>\n",
       "      <td>NaN</td>\n",
       "      <td>0.4934</td>\n",
       "      <td>0.0123</td>\n",
       "      <td>0.0040</td>\n",
       "      <td>2.4923</td>\n",
       "      <td>0.0545</td>\n",
       "      <td>0.0184</td>\n",
       "      <td>0.0055</td>\n",
       "      <td>33.7876</td>\n",
       "      <td>-1</td>\n",
       "    </tr>\n",
       "    <tr>\n",
       "      <th>4</th>\n",
       "      <td>Wafer-805</td>\n",
       "      <td>3006.95</td>\n",
       "      <td>2435.34</td>\n",
       "      <td>2189.8111</td>\n",
       "      <td>1084.6502</td>\n",
       "      <td>1.1993</td>\n",
       "      <td>100.0</td>\n",
       "      <td>104.8856</td>\n",
       "      <td>0.1234</td>\n",
       "      <td>1.5094</td>\n",
       "      <td>...</td>\n",
       "      <td>NaN</td>\n",
       "      <td>0.4987</td>\n",
       "      <td>0.0145</td>\n",
       "      <td>0.0041</td>\n",
       "      <td>2.8991</td>\n",
       "      <td>0.0545</td>\n",
       "      <td>0.0184</td>\n",
       "      <td>0.0055</td>\n",
       "      <td>33.7876</td>\n",
       "      <td>-1</td>\n",
       "    </tr>\n",
       "  </tbody>\n",
       "</table>\n",
       "<p>5 rows × 592 columns</p>\n",
       "</div>"
      ],
      "text/plain": [
       "  Unnamed: 0  Sensor-1  Sensor-2   Sensor-3   Sensor-4  Sensor-5  Sensor-6  \\\n",
       "0  Wafer-801   2968.33   2476.58  2216.7333  1748.0885    1.1127     100.0   \n",
       "1  Wafer-802   2961.04   2506.43  2170.0666  1364.5157    1.5447     100.0   \n",
       "2  Wafer-803   3072.03   2500.68  2205.7445  1363.1048    1.0518     100.0   \n",
       "3  Wafer-804   3021.83   2419.83  2205.7445  1363.1048    1.0518     100.0   \n",
       "4  Wafer-805   3006.95   2435.34  2189.8111  1084.6502    1.1993     100.0   \n",
       "\n",
       "   Sensor-7  Sensor-8  Sensor-9  ...  Sensor-582  Sensor-583  Sensor-584  \\\n",
       "0   97.5822    0.1242    1.5300  ...         NaN      0.5004      0.0120   \n",
       "1   96.7700    0.1230    1.3953  ...         NaN      0.4994      0.0115   \n",
       "2  101.8644    0.1220    1.3896  ...         NaN      0.4987      0.0118   \n",
       "3  101.8644    0.1220    1.4108  ...         NaN      0.4934      0.0123   \n",
       "4  104.8856    0.1234    1.5094  ...         NaN      0.4987      0.0145   \n",
       "\n",
       "   Sensor-585  Sensor-586  Sensor-587  Sensor-588  Sensor-589  Sensor-590  \\\n",
       "0      0.0033      2.4069      0.0545      0.0184      0.0055     33.7876   \n",
       "1      0.0031      2.3020      0.0545      0.0184      0.0055     33.7876   \n",
       "2      0.0036      2.3719      0.0545      0.0184      0.0055     33.7876   \n",
       "3      0.0040      2.4923      0.0545      0.0184      0.0055     33.7876   \n",
       "4      0.0041      2.8991      0.0545      0.0184      0.0055     33.7876   \n",
       "\n",
       "   Good/Bad  \n",
       "0        -1  \n",
       "1         1  \n",
       "2        -1  \n",
       "3        -1  \n",
       "4        -1  \n",
       "\n",
       "[5 rows x 592 columns]"
      ]
     },
     "execution_count": 2,
     "metadata": {},
     "output_type": "execute_result"
    }
   ],
   "source": [
    "# read the data \n",
    "wafers = pd.read_csv(\"/config/workspace/notebooks/wafer_23012020_041211.csv\")\n",
    "wafers.head()"
   ]
  },
  {
   "cell_type": "code",
   "execution_count": 3,
   "metadata": {},
   "outputs": [
    {
     "data": {
      "text/plain": [
       "(100, 592)"
      ]
     },
     "execution_count": 3,
     "metadata": {},
     "output_type": "execute_result"
    }
   ],
   "source": [
    "# shape \n",
    "wafers.shape"
   ]
  },
  {
   "cell_type": "code",
   "execution_count": 4,
   "metadata": {},
   "outputs": [
    {
     "name": "stdout",
     "output_type": "stream",
     "text": [
      "<class 'pandas.core.frame.DataFrame'>\n",
      "RangeIndex: 100 entries, 0 to 99\n",
      "Columns: 592 entries, Unnamed: 0 to Good/Bad\n",
      "dtypes: float64(494), int64(97), object(1)\n",
      "memory usage: 462.6+ KB\n"
     ]
    }
   ],
   "source": [
    "# basic info\n",
    "wafers.info()"
   ]
  },
  {
   "cell_type": "code",
   "execution_count": 5,
   "metadata": {},
   "outputs": [
    {
     "data": {
      "text/plain": [
       "float64    494\n",
       "int64       97\n",
       "object       1\n",
       "Name: count, dtype: int64"
      ]
     },
     "execution_count": 5,
     "metadata": {},
     "output_type": "execute_result"
    }
   ],
   "source": [
    "wafers.dtypes.value_counts()"
   ]
  },
  {
   "cell_type": "code",
   "execution_count": 6,
   "metadata": {},
   "outputs": [
    {
     "data": {
      "text/html": [
       "<div>\n",
       "<style scoped>\n",
       "    .dataframe tbody tr th:only-of-type {\n",
       "        vertical-align: middle;\n",
       "    }\n",
       "\n",
       "    .dataframe tbody tr th {\n",
       "        vertical-align: top;\n",
       "    }\n",
       "\n",
       "    .dataframe thead th {\n",
       "        text-align: right;\n",
       "    }\n",
       "</style>\n",
       "<table border=\"1\" class=\"dataframe\">\n",
       "  <thead>\n",
       "    <tr style=\"text-align: right;\">\n",
       "      <th></th>\n",
       "      <th>Sensor-1</th>\n",
       "      <th>Sensor-2</th>\n",
       "      <th>Sensor-3</th>\n",
       "      <th>Sensor-4</th>\n",
       "      <th>Sensor-5</th>\n",
       "      <th>Sensor-6</th>\n",
       "      <th>Sensor-7</th>\n",
       "      <th>Sensor-8</th>\n",
       "      <th>Sensor-9</th>\n",
       "      <th>Sensor-10</th>\n",
       "      <th>...</th>\n",
       "      <th>Sensor-582</th>\n",
       "      <th>Sensor-583</th>\n",
       "      <th>Sensor-584</th>\n",
       "      <th>Sensor-585</th>\n",
       "      <th>Sensor-586</th>\n",
       "      <th>Sensor-587</th>\n",
       "      <th>Sensor-588</th>\n",
       "      <th>Sensor-589</th>\n",
       "      <th>Sensor-590</th>\n",
       "      <th>Good/Bad</th>\n",
       "    </tr>\n",
       "  </thead>\n",
       "  <tbody>\n",
       "    <tr>\n",
       "      <th>count</th>\n",
       "      <td>99.000000</td>\n",
       "      <td>100.000000</td>\n",
       "      <td>97.000000</td>\n",
       "      <td>97.000000</td>\n",
       "      <td>97.000000</td>\n",
       "      <td>97.0</td>\n",
       "      <td>97.000000</td>\n",
       "      <td>97.000000</td>\n",
       "      <td>100.000000</td>\n",
       "      <td>100.000000</td>\n",
       "      <td>...</td>\n",
       "      <td>34.000000</td>\n",
       "      <td>100.000000</td>\n",
       "      <td>100.000000</td>\n",
       "      <td>100.000000</td>\n",
       "      <td>100.000000</td>\n",
       "      <td>100.000000</td>\n",
       "      <td>100.000000</td>\n",
       "      <td>100.000000</td>\n",
       "      <td>100.000000</td>\n",
       "      <td>100.000000</td>\n",
       "    </tr>\n",
       "    <tr>\n",
       "      <th>mean</th>\n",
       "      <td>3017.301212</td>\n",
       "      <td>2487.180300</td>\n",
       "      <td>2202.168281</td>\n",
       "      <td>1484.362181</td>\n",
       "      <td>1.180367</td>\n",
       "      <td>100.0</td>\n",
       "      <td>97.449088</td>\n",
       "      <td>0.122195</td>\n",
       "      <td>1.461516</td>\n",
       "      <td>0.000243</td>\n",
       "      <td>...</td>\n",
       "      <td>74.331709</td>\n",
       "      <td>0.499390</td>\n",
       "      <td>0.013615</td>\n",
       "      <td>0.003549</td>\n",
       "      <td>2.727297</td>\n",
       "      <td>0.023510</td>\n",
       "      <td>0.014875</td>\n",
       "      <td>0.004685</td>\n",
       "      <td>77.430241</td>\n",
       "      <td>-0.880000</td>\n",
       "    </tr>\n",
       "    <tr>\n",
       "      <th>std</th>\n",
       "      <td>71.819707</td>\n",
       "      <td>66.954212</td>\n",
       "      <td>30.350606</td>\n",
       "      <td>460.985871</td>\n",
       "      <td>0.349654</td>\n",
       "      <td>0.0</td>\n",
       "      <td>5.553324</td>\n",
       "      <td>0.002006</td>\n",
       "      <td>0.071300</td>\n",
       "      <td>0.010610</td>\n",
       "      <td>...</td>\n",
       "      <td>41.857728</td>\n",
       "      <td>0.003431</td>\n",
       "      <td>0.004344</td>\n",
       "      <td>0.000873</td>\n",
       "      <td>0.875848</td>\n",
       "      <td>0.011991</td>\n",
       "      <td>0.007557</td>\n",
       "      <td>0.002527</td>\n",
       "      <td>55.106166</td>\n",
       "      <td>0.477367</td>\n",
       "    </tr>\n",
       "    <tr>\n",
       "      <th>min</th>\n",
       "      <td>2825.670000</td>\n",
       "      <td>2254.990000</td>\n",
       "      <td>2114.666700</td>\n",
       "      <td>978.783200</td>\n",
       "      <td>0.753100</td>\n",
       "      <td>100.0</td>\n",
       "      <td>83.423300</td>\n",
       "      <td>0.116000</td>\n",
       "      <td>1.317900</td>\n",
       "      <td>-0.027900</td>\n",
       "      <td>...</td>\n",
       "      <td>20.309100</td>\n",
       "      <td>0.492500</td>\n",
       "      <td>0.007600</td>\n",
       "      <td>0.002100</td>\n",
       "      <td>1.515200</td>\n",
       "      <td>0.009900</td>\n",
       "      <td>0.004800</td>\n",
       "      <td>0.001700</td>\n",
       "      <td>20.309100</td>\n",
       "      <td>-1.000000</td>\n",
       "    </tr>\n",
       "    <tr>\n",
       "      <th>25%</th>\n",
       "      <td>2973.040000</td>\n",
       "      <td>2446.595000</td>\n",
       "      <td>2189.966700</td>\n",
       "      <td>1111.543600</td>\n",
       "      <td>0.837300</td>\n",
       "      <td>100.0</td>\n",
       "      <td>95.108900</td>\n",
       "      <td>0.120800</td>\n",
       "      <td>1.407375</td>\n",
       "      <td>-0.006925</td>\n",
       "      <td>...</td>\n",
       "      <td>47.356000</td>\n",
       "      <td>0.497300</td>\n",
       "      <td>0.011300</td>\n",
       "      <td>0.003075</td>\n",
       "      <td>2.270425</td>\n",
       "      <td>0.013400</td>\n",
       "      <td>0.009475</td>\n",
       "      <td>0.002700</td>\n",
       "      <td>33.787600</td>\n",
       "      <td>-1.000000</td>\n",
       "    </tr>\n",
       "    <tr>\n",
       "      <th>50%</th>\n",
       "      <td>3004.390000</td>\n",
       "      <td>2493.890000</td>\n",
       "      <td>2200.988900</td>\n",
       "      <td>1244.289900</td>\n",
       "      <td>1.156900</td>\n",
       "      <td>100.0</td>\n",
       "      <td>99.513300</td>\n",
       "      <td>0.122200</td>\n",
       "      <td>1.453700</td>\n",
       "      <td>0.001000</td>\n",
       "      <td>...</td>\n",
       "      <td>65.127550</td>\n",
       "      <td>0.499400</td>\n",
       "      <td>0.012750</td>\n",
       "      <td>0.003400</td>\n",
       "      <td>2.546400</td>\n",
       "      <td>0.021800</td>\n",
       "      <td>0.013900</td>\n",
       "      <td>0.003850</td>\n",
       "      <td>62.059500</td>\n",
       "      <td>-1.000000</td>\n",
       "    </tr>\n",
       "    <tr>\n",
       "      <th>75%</th>\n",
       "      <td>3070.385000</td>\n",
       "      <td>2527.525000</td>\n",
       "      <td>2213.211100</td>\n",
       "      <td>1963.801600</td>\n",
       "      <td>1.383000</td>\n",
       "      <td>100.0</td>\n",
       "      <td>101.457800</td>\n",
       "      <td>0.123400</td>\n",
       "      <td>1.507425</td>\n",
       "      <td>0.008125</td>\n",
       "      <td>...</td>\n",
       "      <td>99.419050</td>\n",
       "      <td>0.501525</td>\n",
       "      <td>0.014700</td>\n",
       "      <td>0.003825</td>\n",
       "      <td>2.953750</td>\n",
       "      <td>0.028025</td>\n",
       "      <td>0.019200</td>\n",
       "      <td>0.005900</td>\n",
       "      <td>104.303400</td>\n",
       "      <td>-1.000000</td>\n",
       "    </tr>\n",
       "    <tr>\n",
       "      <th>max</th>\n",
       "      <td>3221.210000</td>\n",
       "      <td>2664.520000</td>\n",
       "      <td>2315.266700</td>\n",
       "      <td>2363.641200</td>\n",
       "      <td>2.207300</td>\n",
       "      <td>100.0</td>\n",
       "      <td>107.152200</td>\n",
       "      <td>0.126200</td>\n",
       "      <td>1.641100</td>\n",
       "      <td>0.025000</td>\n",
       "      <td>...</td>\n",
       "      <td>223.101800</td>\n",
       "      <td>0.508700</td>\n",
       "      <td>0.043700</td>\n",
       "      <td>0.008900</td>\n",
       "      <td>8.816000</td>\n",
       "      <td>0.054500</td>\n",
       "      <td>0.040100</td>\n",
       "      <td>0.015000</td>\n",
       "      <td>223.101800</td>\n",
       "      <td>1.000000</td>\n",
       "    </tr>\n",
       "  </tbody>\n",
       "</table>\n",
       "<p>8 rows × 591 columns</p>\n",
       "</div>"
      ],
      "text/plain": [
       "          Sensor-1     Sensor-2     Sensor-3     Sensor-4   Sensor-5  \\\n",
       "count    99.000000   100.000000    97.000000    97.000000  97.000000   \n",
       "mean   3017.301212  2487.180300  2202.168281  1484.362181   1.180367   \n",
       "std      71.819707    66.954212    30.350606   460.985871   0.349654   \n",
       "min    2825.670000  2254.990000  2114.666700   978.783200   0.753100   \n",
       "25%    2973.040000  2446.595000  2189.966700  1111.543600   0.837300   \n",
       "50%    3004.390000  2493.890000  2200.988900  1244.289900   1.156900   \n",
       "75%    3070.385000  2527.525000  2213.211100  1963.801600   1.383000   \n",
       "max    3221.210000  2664.520000  2315.266700  2363.641200   2.207300   \n",
       "\n",
       "       Sensor-6    Sensor-7   Sensor-8    Sensor-9   Sensor-10  ...  \\\n",
       "count      97.0   97.000000  97.000000  100.000000  100.000000  ...   \n",
       "mean      100.0   97.449088   0.122195    1.461516    0.000243  ...   \n",
       "std         0.0    5.553324   0.002006    0.071300    0.010610  ...   \n",
       "min       100.0   83.423300   0.116000    1.317900   -0.027900  ...   \n",
       "25%       100.0   95.108900   0.120800    1.407375   -0.006925  ...   \n",
       "50%       100.0   99.513300   0.122200    1.453700    0.001000  ...   \n",
       "75%       100.0  101.457800   0.123400    1.507425    0.008125  ...   \n",
       "max       100.0  107.152200   0.126200    1.641100    0.025000  ...   \n",
       "\n",
       "       Sensor-582  Sensor-583  Sensor-584  Sensor-585  Sensor-586  Sensor-587  \\\n",
       "count   34.000000  100.000000  100.000000  100.000000  100.000000  100.000000   \n",
       "mean    74.331709    0.499390    0.013615    0.003549    2.727297    0.023510   \n",
       "std     41.857728    0.003431    0.004344    0.000873    0.875848    0.011991   \n",
       "min     20.309100    0.492500    0.007600    0.002100    1.515200    0.009900   \n",
       "25%     47.356000    0.497300    0.011300    0.003075    2.270425    0.013400   \n",
       "50%     65.127550    0.499400    0.012750    0.003400    2.546400    0.021800   \n",
       "75%     99.419050    0.501525    0.014700    0.003825    2.953750    0.028025   \n",
       "max    223.101800    0.508700    0.043700    0.008900    8.816000    0.054500   \n",
       "\n",
       "       Sensor-588  Sensor-589  Sensor-590    Good/Bad  \n",
       "count  100.000000  100.000000  100.000000  100.000000  \n",
       "mean     0.014875    0.004685   77.430241   -0.880000  \n",
       "std      0.007557    0.002527   55.106166    0.477367  \n",
       "min      0.004800    0.001700   20.309100   -1.000000  \n",
       "25%      0.009475    0.002700   33.787600   -1.000000  \n",
       "50%      0.013900    0.003850   62.059500   -1.000000  \n",
       "75%      0.019200    0.005900  104.303400   -1.000000  \n",
       "max      0.040100    0.015000  223.101800    1.000000  \n",
       "\n",
       "[8 rows x 591 columns]"
      ]
     },
     "execution_count": 6,
     "metadata": {},
     "output_type": "execute_result"
    }
   ],
   "source": [
    "# only numerical column er staistical info dei \n",
    "wafers.describe()"
   ]
  },
  {
   "cell_type": "code",
   "execution_count": 7,
   "metadata": {},
   "outputs": [],
   "source": [
    "# train test split \n",
    "from sklearn.model_selection import train_test_split\n",
    "wafers_train,wafers_test = train_test_split(wafers,test_size=0.20,random_state=42)"
   ]
  },
  {
   "cell_type": "code",
   "execution_count": 8,
   "metadata": {},
   "outputs": [
    {
     "data": {
      "text/plain": [
       "((80, 592), (20, 592))"
      ]
     },
     "execution_count": 8,
     "metadata": {},
     "output_type": "execute_result"
    }
   ],
   "source": [
    "# train data r shape \n",
    "wafers_train.shape,wafers_test.shape"
   ]
  },
  {
   "cell_type": "code",
   "execution_count": 9,
   "metadata": {},
   "outputs": [
    {
     "data": {
      "text/plain": [
       "Good/Bad\n",
       "-1    94\n",
       " 1     6\n",
       "Name: count, dtype: int64"
      ]
     },
     "execution_count": 9,
     "metadata": {},
     "output_type": "execute_result"
    }
   ],
   "source": [
    "# target colm \n",
    "wafers['Good/Bad'].value_counts()"
   ]
  },
  {
   "cell_type": "markdown",
   "metadata": {},
   "source": [
    "- The data is imbalanced , need to resample the data"
   ]
  },
  {
   "cell_type": "code",
   "execution_count": 10,
   "metadata": {},
   "outputs": [
    {
     "data": {
      "text/plain": [
       "0"
      ]
     },
     "execution_count": 10,
     "metadata": {},
     "output_type": "execute_result"
    }
   ],
   "source": [
    "# missing value target colm  \n",
    "wafers['Good/Bad'].isna().sum()"
   ]
  },
  {
   "cell_type": "code",
   "execution_count": 11,
   "metadata": {},
   "outputs": [
    {
     "name": "stdout",
     "output_type": "stream",
     "text": [
      "(0, 1)\n",
      "(1, 2)\n",
      "(2, 3)\n",
      "(3, 4)\n"
     ]
    }
   ],
   "source": [
    "\n",
    "for i in enumerate([1,2,3,4]):\n",
    "    print(i)\n"
   ]
  },
  {
   "cell_type": "markdown",
   "metadata": {},
   "source": [
    "- there is no missing value on target colm\n"
   ]
  },
  {
   "cell_type": "code",
   "execution_count": 12,
   "metadata": {},
   "outputs": [],
   "source": [
    "# # let's have a look at the distribution first 50 sensors of Wafers\n",
    "\n",
    "# plt.figure(figsize=(15, 100))\n",
    "\n",
    "# for i, col in enumerate(wafers.columns[1:51]):\n",
    "#     plt.subplot(60, 3, i+1)\n",
    "#     sns.distplot(x=wafers[col], color='indianred')\n",
    "#     plt.xlabel(col, weight='bold')\n",
    "#     plt.tight_layout()"
   ]
  },
  {
   "cell_type": "code",
   "execution_count": 13,
   "metadata": {},
   "outputs": [],
   "source": [
    "# column to drop\n",
    "# zero std column \n",
    "def get_zero_std_column(df:pd.DataFrame):\n",
    "    # only num colm \n",
    "    num_colm = [i for i in df.columns if df[i].dtypes!='O']\n",
    "    zero_std_colm=[]\n",
    "    for i in num_colm:\n",
    "        # check colm er std \n",
    "        if df[i].std()==0:\n",
    "            zero_std_colm.append(i)\n",
    "    return zero_std_colm\n"
   ]
  },
  {
   "cell_type": "code",
   "execution_count": 14,
   "metadata": {},
   "outputs": [
    {
     "data": {
      "text/plain": [
       "122"
      ]
     },
     "execution_count": 14,
     "metadata": {},
     "output_type": "execute_result"
    }
   ],
   "source": [
    "zero_std_colm = get_zero_std_column(wafers)\n",
    "len(zero_std_colm)"
   ]
  },
  {
   "cell_type": "code",
   "execution_count": 15,
   "metadata": {},
   "outputs": [
    {
     "data": {
      "text/plain": [
       "2306"
      ]
     },
     "execution_count": 15,
     "metadata": {},
     "output_type": "execute_result"
    }
   ],
   "source": [
    "wafers.isnull().sum().sum()"
   ]
  },
  {
   "cell_type": "code",
   "execution_count": 16,
   "metadata": {},
   "outputs": [],
   "source": [
    "# redundent column whose missing value ratio is >threshold value \n",
    "\n",
    "def get_redundant_colm(df:pd.DataFrame,thres=0.7):\n",
    "    redundant_colm=[] # er mooddhe colm append korbo \n",
    "    # each colm er misiing value ratio = total missing value/total no of rows\n",
    "    colm_mv_ratio = df.isnull().sum().div(df.shape[0])\n",
    "    redundant_colm=list(colm_mv_ratio[colm_mv_ratio>thres].index)\n",
    "\n",
    "    return redundant_colm"
   ]
  },
  {
   "cell_type": "code",
   "execution_count": 17,
   "metadata": {},
   "outputs": [
    {
     "data": {
      "text/plain": [
       "4"
      ]
     },
     "execution_count": 17,
     "metadata": {},
     "output_type": "execute_result"
    }
   ],
   "source": [
    "redundant_colm = get_redundant_colm(wafers,thres=0.7)\n",
    "len(redundant_colm)"
   ]
  },
  {
   "cell_type": "code",
   "execution_count": 18,
   "metadata": {},
   "outputs": [
    {
     "data": {
      "text/plain": [
       "127"
      ]
     },
     "execution_count": 18,
     "metadata": {},
     "output_type": "execute_result"
    }
   ],
   "source": [
    "# total colm to drop\n",
    "colm_to_drop = zero_std_colm + redundant_colm\n",
    "# Unnamed: 0 -> useless colm , it should laso be dropped \n",
    "colm_to_drop.append('Unnamed: 0')\n",
    "len(colm_to_drop)"
   ]
  },
  {
   "cell_type": "code",
   "execution_count": 19,
   "metadata": {},
   "outputs": [],
   "source": [
    "# train data ke independt and dependent feature e alada korbo \n",
    "X = wafers.drop(colm_to_drop,axis=1)\n",
    "y = wafers[['Good/Bad']]"
   ]
  },
  {
   "cell_type": "code",
   "execution_count": 20,
   "metadata": {},
   "outputs": [
    {
     "data": {
      "text/plain": [
       "(100, 465)"
      ]
     },
     "execution_count": 20,
     "metadata": {},
     "output_type": "execute_result"
    }
   ],
   "source": [
    "X.shape"
   ]
  },
  {
   "cell_type": "code",
   "execution_count": 21,
   "metadata": {},
   "outputs": [],
   "source": [
    "# we also have to drop the target colm from x\n",
    "X = X.drop('Good/Bad',axis=1)\n"
   ]
  },
  {
   "cell_type": "code",
   "execution_count": 22,
   "metadata": {},
   "outputs": [
    {
     "data": {
      "text/html": [
       "<div>\n",
       "<style scoped>\n",
       "    .dataframe tbody tr th:only-of-type {\n",
       "        vertical-align: middle;\n",
       "    }\n",
       "\n",
       "    .dataframe tbody tr th {\n",
       "        vertical-align: top;\n",
       "    }\n",
       "\n",
       "    .dataframe thead th {\n",
       "        text-align: right;\n",
       "    }\n",
       "</style>\n",
       "<table border=\"1\" class=\"dataframe\">\n",
       "  <thead>\n",
       "    <tr style=\"text-align: right;\">\n",
       "      <th></th>\n",
       "      <th>Good/Bad</th>\n",
       "    </tr>\n",
       "  </thead>\n",
       "  <tbody>\n",
       "    <tr>\n",
       "      <th>0</th>\n",
       "      <td>-1</td>\n",
       "    </tr>\n",
       "    <tr>\n",
       "      <th>1</th>\n",
       "      <td>1</td>\n",
       "    </tr>\n",
       "    <tr>\n",
       "      <th>2</th>\n",
       "      <td>-1</td>\n",
       "    </tr>\n",
       "    <tr>\n",
       "      <th>3</th>\n",
       "      <td>-1</td>\n",
       "    </tr>\n",
       "    <tr>\n",
       "      <th>4</th>\n",
       "      <td>-1</td>\n",
       "    </tr>\n",
       "    <tr>\n",
       "      <th>...</th>\n",
       "      <td>...</td>\n",
       "    </tr>\n",
       "    <tr>\n",
       "      <th>95</th>\n",
       "      <td>-1</td>\n",
       "    </tr>\n",
       "    <tr>\n",
       "      <th>96</th>\n",
       "      <td>1</td>\n",
       "    </tr>\n",
       "    <tr>\n",
       "      <th>97</th>\n",
       "      <td>-1</td>\n",
       "    </tr>\n",
       "    <tr>\n",
       "      <th>98</th>\n",
       "      <td>-1</td>\n",
       "    </tr>\n",
       "    <tr>\n",
       "      <th>99</th>\n",
       "      <td>1</td>\n",
       "    </tr>\n",
       "  </tbody>\n",
       "</table>\n",
       "<p>100 rows × 1 columns</p>\n",
       "</div>"
      ],
      "text/plain": [
       "    Good/Bad\n",
       "0         -1\n",
       "1          1\n",
       "2         -1\n",
       "3         -1\n",
       "4         -1\n",
       "..       ...\n",
       "95        -1\n",
       "96         1\n",
       "97        -1\n",
       "98        -1\n",
       "99         1\n",
       "\n",
       "[100 rows x 1 columns]"
      ]
     },
     "execution_count": 22,
     "metadata": {},
     "output_type": "execute_result"
    }
   ],
   "source": [
    "y"
   ]
  },
  {
   "cell_type": "code",
   "execution_count": 23,
   "metadata": {},
   "outputs": [],
   "source": [
    "# data trtansforamtion -> pipeline\n",
    "\n",
    "from sklearn.preprocessing import RobustScaler #scale down, we can use StanderdScler \n",
    "from sklearn.impute import KNNImputer #missing value handle \n",
    "from sklearn.pipeline import Pipeline # pipeline create korbo \n",
    "\n",
    "# pipeline create\n",
    "preprocessing_pipeline = Pipeline(\n",
    "                                    steps=[\n",
    "                                        ('Imputer',KNNImputer(n_neighbors=3)),\n",
    "                                        ('scaler',RobustScaler())\n",
    "                                    ]\n",
    "\n",
    "                                )\n"
   ]
  },
  {
   "cell_type": "code",
   "execution_count": 24,
   "metadata": {},
   "outputs": [],
   "source": [
    "# transform teh data \n",
    "x_transform = preprocessing_pipeline.fit_transform(X)"
   ]
  },
  {
   "cell_type": "code",
   "execution_count": 25,
   "metadata": {},
   "outputs": [
    {
     "data": {
      "text/plain": [
       "(100, 464)"
      ]
     },
     "execution_count": 25,
     "metadata": {},
     "output_type": "execute_result"
    }
   ],
   "source": [
    "x_transform.shape"
   ]
  },
  {
   "cell_type": "code",
   "execution_count": 26,
   "metadata": {},
   "outputs": [
    {
     "name": "stdout",
     "output_type": "stream",
     "text": [
      "Requirement already satisfied: kneed in /config/workspace/env/lib/python3.8/site-packages (0.8.5)\n",
      "Requirement already satisfied: numpy>=1.14.2 in /config/workspace/env/lib/python3.8/site-packages (from kneed) (1.24.4)\n",
      "Requirement already satisfied: scipy>=1.0.0 in /config/workspace/env/lib/python3.8/site-packages (from kneed) (1.10.1)\n",
      "Note: you may need to restart the kernel to use updated packages.\n"
     ]
    }
   ],
   "source": [
    "# cluster create korbo-> KMeans cluster\n",
    "%pip install kneed \n"
   ]
  },
  {
   "cell_type": "code",
   "execution_count": 27,
   "metadata": {},
   "outputs": [],
   "source": [
    "from sklearn.cluster import KMeans # clustering method \n",
    "from kneed import KneeLocator # elbow method for finding k value \n",
    "from dataclasses import dataclass\n",
    "from typing import Tuple\n",
    "\n",
    "@dataclass\n",
    "class ClusterData:\n",
    "    X:np.array\n",
    "    desc:str\n",
    "\n",
    "    # k value find korbe with kneelocator and return it \n",
    "    def get_k_value(self):\n",
    "            \n",
    "            try:\n",
    "                print(\n",
    "                    f'Getting the ideal number of clusters to cluster \"{self.desc} set\" into..')\n",
    "\n",
    "                ####################### Compute WCSS for shortlisted number of clusters ##########################\n",
    "                print(\"computing WCSS for shortlisted number of clusters..\")\n",
    "                wcss = []  # Within Summation of Squares\n",
    "\n",
    "                for i in range(1, 11):\n",
    "                    kmeans = KMeans(n_clusters=i, init='k-means++',random_state=42)\n",
    "                    kmeans.fit(self.X)\n",
    "                    wcss.append(kmeans.inertia_)\n",
    "                    print(f\"WCSS for n_clusters={i}: {kmeans.inertia_}\")\n",
    "                \n",
    "                print(\n",
    "                    \"WCSS computed successfully for all shortlisted number of clusters!\")\n",
    "\n",
    "                ################### Finalize dispersal point as the ideal number of clusters #####################\n",
    "                print(\n",
    "                    \"Finding the ideal number of clusters (by locating the dispersal point) via Elbow method..\")\n",
    "                knee_finder = KneeLocator(\n",
    "                    range(1, 11), wcss, curve='convex', direction='decreasing')  # range(1, 11) vs WCSS\n",
    "                print(\n",
    "                    f\"Ideal number of clusters to be formed: {knee_finder.knee}\")\n",
    "\n",
    "                return knee_finder.knee\n",
    "            \n",
    "            except Exception as e:\n",
    "                print(e)\n",
    "                raise e\n",
    "\n",
    "\n",
    "    def doing_cluster(self)->Tuple:\n",
    "        try:\n",
    "            ideal_clusters = self.get_k_value()\n",
    "            \n",
    "            print(f\"Dividing the \\\"{self.desc}\\\" instances into {ideal_clusters} clusters via KMeans Clustering algorithm..\")\n",
    "\n",
    "            kmeans = KMeans(n_clusters=ideal_clusters,init='k-means++', random_state=42)\n",
    "\n",
    "            y_kmeans = kmeans.fit_predict(self.X)\n",
    "\n",
    "            print(f\"..said data instances divided into {ideal_clusters} clusters successfully!\")\n",
    "\n",
    "            return kmeans, np.c_[self.X, y_kmeans]\n",
    "\n",
    "\n",
    "\n",
    "\n",
    "        except Exception as e:\n",
    "            print(e)\n",
    "            raise e\n",
    "\n",
    "\n"
   ]
  },
  {
   "cell_type": "code",
   "execution_count": 28,
   "metadata": {},
   "outputs": [
    {
     "name": "stdout",
     "output_type": "stream",
     "text": [
      "Getting the ideal number of clusters to cluster \"wafers features set\" into..\n",
      "computing WCSS for shortlisted number of clusters..\n",
      "WCSS for n_clusters=1: 1503027.0872606933\n",
      "WCSS for n_clusters=2: 512171.5394467206\n",
      "WCSS for n_clusters=3: 185172.61593328306\n",
      "WCSS for n_clusters=4: 143010.77362221616\n",
      "WCSS for n_clusters=5: 108665.83274685757\n",
      "WCSS for n_clusters=6: 88416.57759883624\n",
      "WCSS for n_clusters=7: 75948.60292819543\n",
      "WCSS for n_clusters=8: 68511.36578079518\n",
      "WCSS for n_clusters=9: 65170.54749442115\n",
      "WCSS for n_clusters=10: 57009.706471410434\n",
      "WCSS computed successfully for all shortlisted number of clusters!\n",
      "Finding the ideal number of clusters (by locating the dispersal point) via Elbow method..\n",
      "Ideal number of clusters to be formed: 3\n",
      "Dividing the \"wafers features\" instances into 3 clusters via KMeans Clustering algorithm..\n",
      "..said data instances divided into 3 clusters successfully!\n"
     ]
    },
    {
     "data": {
      "text/plain": [
       "array([[-0.37110152, -0.21388855,  0.67805794, ...,  0.515625  ,\n",
       "        -0.40093   ,  0.        ],\n",
       "       [-0.44644841,  0.15494872, -1.32959552, ...,  0.515625  ,\n",
       "        -0.40093   ,  0.        ],\n",
       "       [ 0.70070541,  0.08389967,  0.20530751, ...,  0.515625  ,\n",
       "        -0.40093   ,  0.        ],\n",
       "       ...,\n",
       "       [ 0.83289837, -1.31558137, -1.26792905, ..., -0.671875  ,\n",
       "        -0.44021198,  0.        ],\n",
       "       [-0.49988372,  0.59310515, -0.16308229, ..., -0.671875  ,\n",
       "        -0.44021198,  0.        ],\n",
       "       [-0.92374874, -0.35561596,  0.40033513, ..., -0.671875  ,\n",
       "        -0.44021198,  0.        ]])"
      ]
     },
     "execution_count": 28,
     "metadata": {},
     "output_type": "execute_result"
    }
   ],
   "source": [
    "calling_cluster = ClusterData(X=x_transform,desc='wafers features')\n",
    "\n",
    "kmeans , x_clus = calling_cluster.doing_cluster()\n",
    "x_clus\n"
   ]
  },
  {
   "cell_type": "code",
   "execution_count": 29,
   "metadata": {},
   "outputs": [],
   "source": [
    "# cluster er stahe y ke concat korbo \n",
    "wafers_clus = np.c_[x_clus,y]"
   ]
  },
  {
   "cell_type": "code",
   "execution_count": 30,
   "metadata": {},
   "outputs": [],
   "source": [
    "wafers_1 = wafers_clus[wafers_clus[:,-2] == 0] # cluster 1 \n",
    "wafers_2 = wafers_clus[wafers_clus[:,-2] == 1] # cluster 2 \n",
    "wafers_3 = wafers_clus[wafers_clus[:,-2] == 2] # cluster 3\n"
   ]
  },
  {
   "cell_type": "code",
   "execution_count": 31,
   "metadata": {},
   "outputs": [
    {
     "data": {
      "text/plain": [
       "((96, 466), (1, 466), (3, 466))"
      ]
     },
     "execution_count": 31,
     "metadata": {},
     "output_type": "execute_result"
    }
   ],
   "source": [
    "wafers_1.shape , wafers_2.shape,wafers_3.shape"
   ]
  },
  {
   "cell_type": "code",
   "execution_count": 32,
   "metadata": {},
   "outputs": [],
   "source": [
    "# imbalance data ke balanced korar jonno we have to resample data "
   ]
  },
  {
   "cell_type": "code",
   "execution_count": 33,
   "metadata": {},
   "outputs": [
    {
     "name": "stdout",
     "output_type": "stream",
     "text": [
      "Requirement already satisfied: imblearn in /config/workspace/env/lib/python3.8/site-packages (0.0)\n",
      "Requirement already satisfied: imbalanced-learn in /config/workspace/env/lib/python3.8/site-packages (from imblearn) (0.12.2)\n",
      "Requirement already satisfied: numpy>=1.17.3 in /config/workspace/env/lib/python3.8/site-packages (from imbalanced-learn->imblearn) (1.24.4)\n",
      "Requirement already satisfied: scipy>=1.5.0 in /config/workspace/env/lib/python3.8/site-packages (from imbalanced-learn->imblearn) (1.10.1)\n",
      "Requirement already satisfied: scikit-learn>=1.0.2 in /config/workspace/env/lib/python3.8/site-packages (from imbalanced-learn->imblearn) (1.3.2)\n",
      "Requirement already satisfied: joblib>=1.1.1 in /config/workspace/env/lib/python3.8/site-packages (from imbalanced-learn->imblearn) (1.4.0)\n",
      "Requirement already satisfied: threadpoolctl>=2.0.0 in /config/workspace/env/lib/python3.8/site-packages (from imbalanced-learn->imblearn) (3.4.0)\n",
      "Note: you may need to restart the kernel to use updated packages.\n"
     ]
    }
   ],
   "source": [
    "pip install imblearn"
   ]
  },
  {
   "cell_type": "markdown",
   "metadata": {},
   "source": [
    "-  # imbalance data ke balanced korar jonno we have to resample data "
   ]
  },
  {
   "cell_type": "code",
   "execution_count": 34,
   "metadata": {},
   "outputs": [],
   "source": [
    "from imblearn.combine import SMOTETomek\n",
    "\n",
    "# MODEL CREATTION \n",
    "smt = SMOTETomek(sampling_strategy='auto',random_state=42)\n",
    "\n",
    "# resample \n",
    "x_res,y_res = smt.fit_resample(x_transform,y)"
   ]
  },
  {
   "cell_type": "code",
   "execution_count": 35,
   "metadata": {},
   "outputs": [
    {
     "data": {
      "text/plain": [
       "((188, 464), (188, 1))"
      ]
     },
     "execution_count": 35,
     "metadata": {},
     "output_type": "execute_result"
    }
   ],
   "source": [
    "x_res.shape,y_res.shape"
   ]
  },
  {
   "cell_type": "code",
   "execution_count": 36,
   "metadata": {},
   "outputs": [
    {
     "data": {
      "text/plain": [
       "Good/Bad\n",
       "-1          94\n",
       " 1           6\n",
       "Name: count, dtype: int64"
      ]
     },
     "execution_count": 36,
     "metadata": {},
     "output_type": "execute_result"
    }
   ],
   "source": [
    "# before resampling\n",
    "y.value_counts()"
   ]
  },
  {
   "cell_type": "code",
   "execution_count": 37,
   "metadata": {},
   "outputs": [
    {
     "data": {
      "text/plain": [
       "Good/Bad\n",
       "-1          94\n",
       " 1          94\n",
       "Name: count, dtype: int64"
      ]
     },
     "execution_count": 37,
     "metadata": {},
     "output_type": "execute_result"
    }
   ],
   "source": [
    "# after value counts\n",
    "y_res.value_counts()"
   ]
  },
  {
   "cell_type": "markdown",
   "metadata": {},
   "source": [
    "- WoW the data is balanced"
   ]
  },
  {
   "cell_type": "code",
   "execution_count": 38,
   "metadata": {},
   "outputs": [],
   "source": [
    "# now train test split \n",
    "x_train,x_test,y_train,y_test = train_test_split(x_res,y_res,test_size=1/3,random_state=42)"
   ]
  },
  {
   "cell_type": "code",
   "execution_count": 39,
   "metadata": {},
   "outputs": [
    {
     "data": {
      "text/plain": [
       "((125, 464), (63, 464))"
      ]
     },
     "execution_count": 39,
     "metadata": {},
     "output_type": "execute_result"
    }
   ],
   "source": [
    "x_train.shape,x_test.shape"
   ]
  },
  {
   "cell_type": "code",
   "execution_count": 40,
   "metadata": {},
   "outputs": [
    {
     "name": "stdout",
     "output_type": "stream",
     "text": [
      "Requirement already satisfied: xgboost in /config/workspace/env/lib/python3.8/site-packages (2.0.3)\n",
      "Requirement already satisfied: numpy in /config/workspace/env/lib/python3.8/site-packages (from xgboost) (1.24.4)\n",
      "Requirement already satisfied: scipy in /config/workspace/env/lib/python3.8/site-packages (from xgboost) (1.10.1)\n",
      "Note: you may need to restart the kernel to use updated packages.\n"
     ]
    }
   ],
   "source": [
    "pip install xgboost"
   ]
  },
  {
   "cell_type": "code",
   "execution_count": 41,
   "metadata": {},
   "outputs": [],
   "source": [
    "# Model selection -> classification problem \n",
    "from sklearn.svm import  SVC\n",
    "from sklearn.ensemble import RandomForestClassifier\n",
    "from xgboost import XGBClassifier\n",
    "\n",
    "from sklearn.model_selection import cross_val_score  #for training data \n",
    "from sklearn.model_selection import cross_val_predict # for test data \n",
    "\n",
    "from sklearn.metrics import roc_auc_score  #for accuracy "
   ]
  },
  {
   "cell_type": "code",
   "execution_count": 42,
   "metadata": {},
   "outputs": [],
   "source": [
    "# fucntion for evaluate score \n",
    "def evaluate_score(score):\n",
    "\n",
    "    print('Score:',score)\n",
    "    print('Mean:' , score.mean())\n",
    "    print('STD:' , score.std())"
   ]
  },
  {
   "cell_type": "code",
   "execution_count": 43,
   "metadata": {},
   "outputs": [],
   "source": [
    "# model create \n",
    "svc_lin = SVC(kernel='linear')\n",
    "svc_rbf = SVC(kernel='rbf')\n",
    "random  = RandomForestClassifier()\n",
    "xgb = XGBClassifier()\n"
   ]
  },
  {
   "cell_type": "markdown",
   "metadata": {},
   "source": [
    "## SVC kernal = linear  model training by cross validation "
   ]
  },
  {
   "cell_type": "code",
   "execution_count": 44,
   "metadata": {},
   "outputs": [
    {
     "name": "stdout",
     "output_type": "stream",
     "text": [
      "[CV] END .................................................... total time=   0.0s\n",
      "[CV] END .................................................... total time=   0.0s\n",
      "[CV] END .................................................... total time=   0.0s\n",
      "[CV] END .................................................... total time=   0.0s\n",
      "[CV] END .................................................... total time=   0.0s\n",
      "[CV] END .................................................... total time=   0.0s\n",
      "[CV] END .................................................... total time=   0.0s\n",
      "[CV] END .................................................... total time=   0.0s\n",
      "[CV] END .................................................... total time=   0.0s\n",
      "[CV] END .................................................... total time=   0.0s\n",
      "Score: [1. 1. 1. 1. 1. 1. 1. 1. 1. 1.]\n",
      "Mean: 1.0\n",
      "STD: 0.0\n"
     ]
    }
   ],
   "source": [
    "score_lin = cross_val_score(svc_lin, x_train,y_train , cv=10,verbose=2,scoring='roc_auc')\n",
    "evaluate_score(score_lin)"
   ]
  },
  {
   "cell_type": "code",
   "execution_count": 45,
   "metadata": {},
   "outputs": [
    {
     "data": {
      "text/plain": [
       "0.9386409736308317"
      ]
     },
     "execution_count": 45,
     "metadata": {},
     "output_type": "execute_result"
    }
   ],
   "source": [
    "# test \n",
    "svc_lin_pred_score = cross_val_predict(svc_lin,x_test,y_test,cv=10,verbose=2)\n",
    "\n",
    "# roc auc score \n",
    "roc_auc_score(y_true=y_test,y_score=svc_lin_pred_score)"
   ]
  },
  {
   "cell_type": "code",
   "execution_count": 46,
   "metadata": {},
   "outputs": [
    {
     "name": "stdout",
     "output_type": "stream",
     "text": [
      "[CV] END .................................................... total time=   0.0s\n",
      "[CV] END .................................................... total time=   0.0s\n",
      "[CV] END .................................................... total time=   0.0s\n",
      "[CV] END .................................................... total time=   0.0s\n",
      "[CV] END .................................................... total time=   0.0s\n",
      "[CV] END .................................................... total time=   0.0s\n",
      "[CV] END .................................................... total time=   0.0s\n",
      "[CV] END .................................................... total time=   0.0s\n",
      "[CV] END .................................................... total time=   0.0s\n",
      "[CV] END .................................................... total time=   0.0s\n",
      "Score: [1.         1.         1.         1.         1.         1.\n",
      " 0.97222222 1.         0.97222222 1.        ]\n",
      "Mean: 0.9944444444444445\n",
      "STD: 0.011111111111111072\n"
     ]
    }
   ],
   "source": [
    "# kernal rbf \n",
    "score_rbf = cross_val_score(svc_rbf, x_train,y_train , cv=10,verbose=2,scoring='roc_auc')\n",
    "evaluate_score(score_rbf)"
   ]
  },
  {
   "cell_type": "code",
   "execution_count": 47,
   "metadata": {},
   "outputs": [
    {
     "data": {
      "text/plain": [
       "0.8990872210953346"
      ]
     },
     "execution_count": 47,
     "metadata": {},
     "output_type": "execute_result"
    }
   ],
   "source": [
    "# test \n",
    "svc_rbf_pred_score = cross_val_predict(svc_rbf,x_test,y_test,cv=10,verbose=2)\n",
    "\n",
    "# roc auc score \n",
    "roc_auc_score(y_true=y_test,y_score=svc_rbf_pred_score)"
   ]
  },
  {
   "cell_type": "code",
   "execution_count": 48,
   "metadata": {},
   "outputs": [
    {
     "name": "stdout",
     "output_type": "stream",
     "text": [
      "[CV] END .................................................... total time=   0.2s\n",
      "[CV] END .................................................... total time=   0.2s\n",
      "[CV] END .................................................... total time=   0.2s\n",
      "[CV] END .................................................... total time=   0.2s\n",
      "[CV] END .................................................... total time=   0.2s\n",
      "[CV] END .................................................... total time=   0.2s\n",
      "[CV] END .................................................... total time=   0.2s\n",
      "[CV] END .................................................... total time=   0.2s\n",
      "[CV] END .................................................... total time=   0.2s\n",
      "[CV] END .................................................... total time=   0.2s\n",
      "Score: [1. 1. 1. 1. 1. 1. 1. 1. 1. 1.]\n",
      "Mean: 1.0\n",
      "STD: 0.0\n"
     ]
    }
   ],
   "source": [
    "# random forest classifier \n",
    "score_random = cross_val_score(random, x_train,y_train , cv=10,verbose=2,scoring='roc_auc')\n",
    "evaluate_score(score_random)"
   ]
  },
  {
   "cell_type": "code",
   "execution_count": 49,
   "metadata": {},
   "outputs": [
    {
     "data": {
      "text/plain": [
       "1.0"
      ]
     },
     "execution_count": 49,
     "metadata": {},
     "output_type": "execute_result"
    }
   ],
   "source": [
    "# accuracy \n",
    "# test \n",
    "random_pred_score = cross_val_predict(random,x_test,y_test,cv=10,verbose=2)\n",
    "\n",
    "# roc auc score \n",
    "roc_auc_score(y_true=y_test,y_score=random_pred_score)"
   ]
  },
  {
   "cell_type": "markdown",
   "metadata": {},
   "source": [
    "- svc(linear) = 0.9386409736308317\n",
    "- svc(rbf) = 0.8990872210953346\n",
    "- random foresst = 1.0"
   ]
  },
  {
   "cell_type": "code",
   "execution_count": null,
   "metadata": {},
   "outputs": [],
   "source": []
  }
 ],
 "metadata": {
  "kernelspec": {
   "display_name": "Python 3.8.19 (conda)",
   "language": "python",
   "name": "python3"
  },
  "language_info": {
   "codemirror_mode": {
    "name": "ipython",
    "version": 3
   },
   "file_extension": ".py",
   "mimetype": "text/x-python",
   "name": "python",
   "nbconvert_exporter": "python",
   "pygments_lexer": "ipython3",
   "version": "3.8.19"
  },
  "orig_nbformat": 4,
  "vscode": {
   "interpreter": {
    "hash": "6ee389b6fd5680d01c44917c1212b4c09ead7d0a63469ff6d06dd80212d603e1"
   }
  }
 },
 "nbformat": 4,
 "nbformat_minor": 2
}
